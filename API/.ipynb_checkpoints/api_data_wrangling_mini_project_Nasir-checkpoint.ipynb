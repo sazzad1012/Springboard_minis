{
 "cells": [
  {
   "cell_type": "code",
   "execution_count": 1,
   "metadata": {},
   "outputs": [],
   "source": [
    "#Api key to access Quandl stock data\n",
    "API_KEY = 'mydDsaFnJN1-AgVdRAZq'"
   ]
  },
  {
   "cell_type": "code",
   "execution_count": 2,
   "metadata": {},
   "outputs": [],
   "source": [
    "# Import the relevant modules\n",
    "import requests\n",
    "import json\n"
   ]
  },
  {
   "cell_type": "code",
   "execution_count": 6,
   "metadata": {},
   "outputs": [],
   "source": [
    "# Now, call the Quandl API using requests and pull stock data (for AFX listed on FSE) for a single day\n",
    "URL = \"https://www.quandl.com/api/v3/datasets/FSE/AFX_X.json\"\n",
    "PARAMS = {'api_key': API_KEY, 'start_date': '2017-01-01', 'end_date': '2017-01-02'}\n",
    "\n",
    "r = requests.get(url = URL, params = PARAMS)\n",
    "#r = requests.get('https://www.quandl.com/api/v3/datasets/FSE/AFX_X.json?start_date=2017-01-01&end_date=2017-01-02&api_key=API_KEY')\n",
    "\n"
   ]
  },
  {
   "cell_type": "code",
   "execution_count": 7,
   "metadata": {},
   "outputs": [
    {
     "name": "stdout",
     "output_type": "stream",
     "text": [
      "{'dataset': {'id': 10095370, 'dataset_code': 'AFX_X', 'database_code': 'FSE', 'name': 'Carl Zeiss Meditec (AFX_X)', 'description': 'Stock Prices for Carl Zeiss Meditec (AFX) from the Frankfurt Stock Exchange.<br><br>Trading System: Xetra<br><br>ISIN: DE0005313704', 'refreshed_at': '2019-05-20T22:30:41.159Z', 'newest_available_date': '2019-05-20', 'oldest_available_date': '2000-06-07', 'column_names': ['Date', 'Open', 'High', 'Low', 'Close', 'Change', 'Traded Volume', 'Turnover', 'Last Price of the Day', 'Daily Traded Units', 'Daily Turnover'], 'frequency': 'daily', 'type': 'Time Series', 'premium': False, 'limit': None, 'transform': None, 'column_index': None, 'start_date': '2017-01-01', 'end_date': '2017-01-02', 'data': [['2017-01-02', 34.99, 35.94, 34.99, 35.8, None, 44700.0, 1590561.0, None, None, None]], 'collapse': None, 'order': None, 'database_id': 6129}}\n",
      "['Date', 'Open', 'High', 'Low', 'Close', 'Change', 'Traded Volume', 'Turnover', 'Last Price of the Day', 'Daily Traded Units', 'Daily Turnover']\n"
     ]
    }
   ],
   "source": [
    "# Inspect the JSON structure \n",
    "stock_sample = r.json()\n",
    "print(stock_sample)\n",
    "print(stock_sample['dataset']['column_names'])"
   ]
  },
  {
   "cell_type": "code",
   "execution_count": 8,
   "metadata": {},
   "outputs": [],
   "source": [
    "#Now access the data set for year 2017\n",
    "URL = \"https://www.quandl.com/api/v3/datasets/FSE/AFX_X.json\"\n",
    "PARAMS = {'api_key': API_KEY, 'start_date': '2017-01-01', 'end_date': '2017-12-31'}\n",
    "\n",
    "r = requests.get(url = URL, params = PARAMS)\n",
    "stock = r.json()\n"
   ]
  },
  {
   "cell_type": "markdown",
   "metadata": {},
   "source": [
    "### Calculate highest and lowest opening stock price for year 2017"
   ]
  },
  {
   "cell_type": "code",
   "execution_count": 9,
   "metadata": {},
   "outputs": [
    {
     "name": "stdout",
     "output_type": "stream",
     "text": [
      "The maximum opening price is:  53.11\n"
     ]
    }
   ],
   "source": [
    "open_index = stock['dataset']['column_names'].index('Open')\n",
    "\n",
    "opens = []\n",
    "for i in stock['dataset']['data']:\n",
    "    if isinstance(i[open_index], (int, float)):\n",
    "        opens.append(i[open_index])\n",
    "        \n",
    "max_stock = max(opens)\n",
    "min_stock = min(opens)\n",
    "\n",
    "print('The maximum opening price is: ', max_stock)\n",
    "print('The minimum opening price is: ', min_stock)"
   ]
  },
  {
   "cell_type": "markdown",
   "metadata": {},
   "source": [
    "### Largest single day change in stock price based on daily high and low prices"
   ]
  },
  {
   "cell_type": "code",
   "execution_count": 10,
   "metadata": {},
   "outputs": [
    {
     "name": "stdout",
     "output_type": "stream",
     "text": [
      "The largest daily price chnage is:  2.8100000000000023\n"
     ]
    }
   ],
   "source": [
    "high_index = stock['dataset']['column_names'].index('High')\n",
    "low_index = stock['dataset']['column_names'].index('Low')\n",
    "chnages = []\n",
    "for i in stock['dataset']['data']:\n",
    "    if isinstance(i[high_index], (int, float)) & isinstance(i[low_index], (int, float)):\n",
    "        chnages.append(i[high_index]-i[low_index])\n",
    "        \n",
    "max_change_day = max(chnages)\n",
    "print('The largest daily price chnage is: ', max_change_day)"
   ]
  },
  {
   "cell_type": "markdown",
   "metadata": {},
   "source": [
    "### Largest chnage between any two days based on closing prices"
   ]
  },
  {
   "cell_type": "code",
   "execution_count": 11,
   "metadata": {},
   "outputs": [
    {
     "name": "stdout",
     "output_type": "stream",
     "text": [
      "The largest daily price chnage is:  19.03\n"
     ]
    }
   ],
   "source": [
    "close_index = stock['dataset']['column_names'].index('Close')\n",
    "\n",
    "closes = []\n",
    "for i in stock['dataset']['data']:\n",
    "    if isinstance(i[close_index], (int, float)):\n",
    "        closes.append(i[close_index])\n",
    "\n",
    "largest_change_2days = max(closes) - min(closes)\n",
    "print('The largest price chnage between any two days is: ', largest_change_2days)"
   ]
  },
  {
   "cell_type": "markdown",
   "metadata": {},
   "source": [
    "### Average daily trading volume over the whole year"
   ]
  },
  {
   "cell_type": "code",
   "execution_count": 15,
   "metadata": {},
   "outputs": [
    {
     "name": "stdout",
     "output_type": "stream",
     "text": [
      "The average trading volume is:  89124.33725490196\n"
     ]
    },
    {
     "data": {
      "text/plain": [
       "1"
      ]
     },
     "execution_count": 15,
     "metadata": {},
     "output_type": "execute_result"
    }
   ],
   "source": [
    "volume_index = stock['dataset']['column_names'].index('Traded Volume')\n",
    "\n",
    "volumes = []\n",
    "for i in stock['dataset']['data']:\n",
    "    if isinstance(i[volume_index], (int, float)):\n",
    "        volumes.append(i[volume_index])\n",
    "\n",
    "avg_traded_volume = sum(volumes)/len(volumes)\n",
    "print('The average trading volume is: ', avg_traded_volume)\n"
   ]
  },
  {
   "cell_type": "markdown",
   "metadata": {},
   "source": [
    "### Median of daily trading volume"
   ]
  },
  {
   "cell_type": "code",
   "execution_count": 25,
   "metadata": {},
   "outputs": [
    {
     "data": {
      "text/plain": [
       "3.5"
      ]
     },
     "execution_count": 25,
     "metadata": {},
     "output_type": "execute_result"
    }
   ],
   "source": [
    "# Define a function to calculate the median of a given list lst\n",
    "def median(lst):\n",
    "    lst = sorted(lst)\n",
    "    ln = len(lst)\n",
    "    \n",
    "    if (ln%2) != 0:\n",
    "        ind = int((ln+1)/2) -1\n",
    "        mid = lst[ind]\n",
    "    else:\n",
    "        ind = int(ln/2) -1\n",
    "        mid = (lst[ind] + lst[ind+1])/2\n",
    "        \n",
    "    return mid\n",
    "\n",
    "#Test it\n",
    "median([3,2,1,5,4,6])\n"
   ]
  },
  {
   "cell_type": "code",
   "execution_count": 26,
   "metadata": {},
   "outputs": [
    {
     "name": "stdout",
     "output_type": "stream",
     "text": [
      "The median of daily trading volume is:  76286.0\n"
     ]
    }
   ],
   "source": [
    "print('The median of daily trading volume is: ', median(volumes))"
   ]
  },
  {
   "cell_type": "code",
   "execution_count": null,
   "metadata": {},
   "outputs": [],
   "source": []
  }
 ],
 "metadata": {
  "kernelspec": {
   "display_name": "Python 3",
   "language": "python",
   "name": "python3"
  },
  "language_info": {
   "codemirror_mode": {
    "name": "ipython",
    "version": 3
   },
   "file_extension": ".py",
   "mimetype": "text/x-python",
   "name": "python",
   "nbconvert_exporter": "python",
   "pygments_lexer": "ipython3",
   "version": "3.7.1"
  }
 },
 "nbformat": 4,
 "nbformat_minor": 2
}
