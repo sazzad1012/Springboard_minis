{
 "cells": [
  {
   "cell_type": "markdown",
   "metadata": {},
   "source": [
    "# JSON project\n"
   ]
  },
  {
   "cell_type": "code",
   "execution_count": 50,
   "metadata": {},
   "outputs": [
    {
     "name": "stdout",
     "output_type": "stream",
     "text": [
      "/Users/sazzadnasir/Desktop/Springboard/Mini_projects/data_wrangling_json/data\n"
     ]
    }
   ],
   "source": [
    "cd /Users/sazzadnasir/Desktop/Springboard/Mini_projects/data_wrangling_json/data"
   ]
  },
  {
   "cell_type": "code",
   "execution_count": 51,
   "metadata": {},
   "outputs": [],
   "source": [
    "#Import relevant packages\n",
    "import pandas as pd\n",
    "import json\n",
    "from pandas.io.json import json_normalize\n",
    "\n",
    "# Read Json file\n",
    "json_df = pd.read_json('world_bank_projects.json') "
   ]
  },
  {
   "cell_type": "markdown",
   "metadata": {},
   "source": [
    "## Sort country names by frequency of occurence"
   ]
  },
  {
   "cell_type": "code",
   "execution_count": 52,
   "metadata": {},
   "outputs": [
    {
     "name": "stdout",
     "output_type": "stream",
     "text": [
      "People's Republic of China         19\n",
      "Republic of Indonesia              19\n",
      "Socialist Republic of Vietnam      17\n",
      "Republic of India                  16\n",
      "Republic of Yemen                  13\n",
      "Kingdom of Morocco                 12\n",
      "Nepal                              12\n",
      "People's Republic of Bangladesh    12\n",
      "Republic of Mozambique             11\n",
      "Africa                             11\n",
      "Name: countryname, dtype: int64\n"
     ]
    }
   ],
   "source": [
    "country_counts = json_df['countryname'].value_counts()\n",
    "print(country_counts.head(10))"
   ]
  },
  {
   "cell_type": "code",
   "execution_count": 53,
   "metadata": {},
   "outputs": [
    {
     "data": {
      "text/plain": [
       "[{'code': '8', 'name': 'Human development'}, {'code': '11', 'name': ''}]"
      ]
     },
     "execution_count": 53,
     "metadata": {},
     "output_type": "execute_result"
    }
   ],
   "source": [
    "df_project = json_df['mjtheme_namecode'] # extracting the column for project themes\n",
    "df_project[0] # check "
   ]
  },
  {
   "cell_type": "markdown",
   "metadata": {},
   "source": [
    "## Sort project themes (including the empty ones)"
   ]
  },
  {
   "cell_type": "code",
   "execution_count": 54,
   "metadata": {},
   "outputs": [
    {
     "name": "stdout",
     "output_type": "stream",
     "text": [
      "[('Environment and natural resources management', 223), ('Rural development', 202), ('Human development', 197), ('Public sector governance', 184), ('Social protection and risk management', 158), ('Financial and private sector development', 130), ('', 122), ('Social dev/gender/inclusion', 119), ('Trade and integration', 72), ('Urban development', 47)]\n"
     ]
    }
   ],
   "source": [
    "from collections import defaultdict\n",
    "projectcounts = defaultdict(int)\n",
    "\n",
    "for row in df_project:\n",
    "    for rw in row:\n",
    "   #     if len(rw['name']) > 0:\n",
    "            projectcounts[rw['name']] += 1\n",
    "\n",
    "    #Now sort the project themes in descending order\n",
    "from operator import itemgetter\n",
    "projectcounts_sorted = sorted(projectcounts.items(), key = itemgetter(1), reverse = True)\n",
    "print(projectcounts_sorted[0:10])"
   ]
  },
  {
   "cell_type": "markdown",
   "metadata": {},
   "source": [
    "## To replace empty names, first a lookup table is created (code vs. name)"
   ]
  },
  {
   "cell_type": "code",
   "execution_count": 55,
   "metadata": {},
   "outputs": [
    {
     "name": "stdout",
     "output_type": "stream",
     "text": [
      "{'8': 'Human development', '1': 'Economic management', '6': 'Social protection and risk management', '5': 'Trade and integration', '2': 'Public sector governance', '11': 'Environment and natural resources management', '7': 'Social dev/gender/inclusion', '4': 'Financial and private sector development', '10': 'Rural development', '9': 'Urban development', '3': 'Rule of law'}\n"
     ]
    }
   ],
   "source": [
    "code_name_lookup = {} # Code and project name, a lookup table\n",
    "for row in df_project:\n",
    "    for rw in row:\n",
    "         if len(rw['name']) > 0:\n",
    "            if rw['code']  not in code_name_lookup:\n",
    "                code_name_lookup[rw['code']] = rw['name']\n",
    "            \n",
    "print(code_name_lookup)"
   ]
  },
  {
   "cell_type": "markdown",
   "metadata": {},
   "source": [
    "## One way for empty name substitution. This is by defining a function name_sub and applying it row-wise to the Panda series."
   ]
  },
  {
   "cell_type": "code",
   "execution_count": 48,
   "metadata": {},
   "outputs": [
    {
     "data": {
      "text/plain": [
       "[{'code': '8', 'name': 'Human development'},\n",
       " {'code': '11', 'name': 'Environment and natural resources management'}]"
      ]
     },
     "execution_count": 48,
     "metadata": {},
     "output_type": "execute_result"
    }
   ],
   "source": [
    "def name_sub(row):\n",
    "    for rw in row:\n",
    "     #    if len(rw['name']) == 0:\n",
    "         if not rw['name']:     \n",
    "            rw['name'] = code_name_lookup[rw['code']]\n",
    "    return row\n",
    "            \n",
    "new_project1 = df_project.apply(name_sub)\n",
    "new_project1[0]"
   ]
  },
  {
   "cell_type": "code",
   "execution_count": null,
   "metadata": {},
   "outputs": [],
   "source": []
  }
 ],
 "metadata": {
  "kernelspec": {
   "display_name": "Python 3",
   "language": "python",
   "name": "python3"
  },
  "language_info": {
   "codemirror_mode": {
    "name": "ipython",
    "version": 3
   },
   "file_extension": ".py",
   "mimetype": "text/x-python",
   "name": "python",
   "nbconvert_exporter": "python",
   "pygments_lexer": "ipython3",
   "version": "3.7.1"
  }
 },
 "nbformat": 4,
 "nbformat_minor": 2
}
